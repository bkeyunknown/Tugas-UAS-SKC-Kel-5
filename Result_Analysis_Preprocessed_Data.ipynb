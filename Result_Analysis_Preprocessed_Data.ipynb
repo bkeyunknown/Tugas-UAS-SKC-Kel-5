{
  "nbformat": 4,
  "nbformat_minor": 0,
  "metadata": {
    "kernelspec": {
      "display_name": "Python 3",
      "language": "python",
      "name": "python3"
    },
    "language_info": {
      "codemirror_mode": {
        "name": "ipython",
        "version": 3
      },
      "file_extension": ".py",
      "mimetype": "text/x-python",
      "name": "python",
      "nbconvert_exporter": "python",
      "pygments_lexer": "ipython3",
      "version": "3.6.8"
    },
    "colab": {
      "name": "Result_Analysis_Preprocessed_Data.ipynb",
      "provenance": [],
      "collapsed_sections": []
    }
  },
  "cells": [
    {
      "cell_type": "markdown",
      "metadata": {
        "id": "hDmQwNu4jo14"
      },
      "source": [
        "# Result Analysis on Preprocessed Data"
      ]
    },
    {
      "cell_type": "code",
      "metadata": {
        "colab": {
          "base_uri": "https://localhost:8080/"
        },
        "id": "rF99KflDjo2A",
        "outputId": "960e83b9-79a2-438b-f6b5-3eee2d593994"
      },
      "source": [
        "# Opsional, apabila menggunakan gdrive sebagai tempat menyimpan data\r\n",
        "# Sesuaikan juga Path Gdrive dimana file disimpan\r\n",
        "import pandas as pd\r\n",
        "from google.colab import drive \r\n",
        "drive.mount('/content/gdrive')"
      ],
      "execution_count": 43,
      "outputs": [
        {
          "output_type": "stream",
          "text": [
            "Drive already mounted at /content/gdrive; to attempt to forcibly remount, call drive.mount(\"/content/gdrive\", force_remount=True).\n"
          ],
          "name": "stdout"
        }
      ]
    },
    {
      "cell_type": "code",
      "metadata": {
        "id": "WWoj87k5jo2B"
      },
      "source": [
        "df_prepro = pd.read_csv('gdrive/My Drive/Colab Notebooks/Dataset/DF_Preproces.csv')"
      ],
      "execution_count": 44,
      "outputs": []
    },
    {
      "cell_type": "code",
      "metadata": {
        "colab": {
          "base_uri": "https://localhost:8080/",
          "height": 195
        },
        "id": "t9dY0zeDk2nd",
        "outputId": "224e4f24-83ca-4900-a514-8f1f1b3d4cae"
      },
      "source": [
        "df_prepro.head()"
      ],
      "execution_count": 45,
      "outputs": [
        {
          "output_type": "execute_result",
          "data": {
            "text/html": [
              "<div>\n",
              "<style scoped>\n",
              "    .dataframe tbody tr th:only-of-type {\n",
              "        vertical-align: middle;\n",
              "    }\n",
              "\n",
              "    .dataframe tbody tr th {\n",
              "        vertical-align: top;\n",
              "    }\n",
              "\n",
              "    .dataframe thead th {\n",
              "        text-align: right;\n",
              "    }\n",
              "</style>\n",
              "<table border=\"1\" class=\"dataframe\">\n",
              "  <thead>\n",
              "    <tr style=\"text-align: right;\">\n",
              "      <th></th>\n",
              "      <th>Unnamed: 0</th>\n",
              "      <th>0</th>\n",
              "      <th>1</th>\n",
              "      <th>2</th>\n",
              "      <th>3</th>\n",
              "      <th>4</th>\n",
              "      <th>5</th>\n",
              "      <th>6</th>\n",
              "      <th>7</th>\n",
              "      <th>8</th>\n",
              "      <th>9</th>\n",
              "      <th>10</th>\n",
              "      <th>11</th>\n",
              "    </tr>\n",
              "  </thead>\n",
              "  <tbody>\n",
              "    <tr>\n",
              "      <th>0</th>\n",
              "      <td>0</td>\n",
              "      <td>7.0</td>\n",
              "      <td>21.0</td>\n",
              "      <td>30.0</td>\n",
              "      <td>2.0</td>\n",
              "      <td>3.0</td>\n",
              "      <td>30.0</td>\n",
              "      <td>2.0</td>\n",
              "      <td>3.0</td>\n",
              "      <td>59.0</td>\n",
              "      <td>7.0</td>\n",
              "      <td>2.0</td>\n",
              "      <td>0.0</td>\n",
              "    </tr>\n",
              "    <tr>\n",
              "      <th>1</th>\n",
              "      <td>1</td>\n",
              "      <td>7.0</td>\n",
              "      <td>32.0</td>\n",
              "      <td>70.0</td>\n",
              "      <td>2.0</td>\n",
              "      <td>4.0</td>\n",
              "      <td>68.0</td>\n",
              "      <td>2.0</td>\n",
              "      <td>4.0</td>\n",
              "      <td>134.0</td>\n",
              "      <td>7.0</td>\n",
              "      <td>2.0</td>\n",
              "      <td>0.0</td>\n",
              "    </tr>\n",
              "    <tr>\n",
              "      <th>2</th>\n",
              "      <td>2</td>\n",
              "      <td>7.0</td>\n",
              "      <td>15.0</td>\n",
              "      <td>1.0</td>\n",
              "      <td>2.0</td>\n",
              "      <td>2.0</td>\n",
              "      <td>0.0</td>\n",
              "      <td>2.0</td>\n",
              "      <td>2.0</td>\n",
              "      <td>0.0</td>\n",
              "      <td>7.0</td>\n",
              "      <td>2.0</td>\n",
              "      <td>0.0</td>\n",
              "    </tr>\n",
              "    <tr>\n",
              "      <th>3</th>\n",
              "      <td>3</td>\n",
              "      <td>7.0</td>\n",
              "      <td>33.0</td>\n",
              "      <td>77.0</td>\n",
              "      <td>2.0</td>\n",
              "      <td>7.0</td>\n",
              "      <td>73.0</td>\n",
              "      <td>2.0</td>\n",
              "      <td>7.0</td>\n",
              "      <td>144.0</td>\n",
              "      <td>7.0</td>\n",
              "      <td>2.0</td>\n",
              "      <td>0.0</td>\n",
              "    </tr>\n",
              "    <tr>\n",
              "      <th>4</th>\n",
              "      <td>4</td>\n",
              "      <td>7.0</td>\n",
              "      <td>55.0</td>\n",
              "      <td>78.0</td>\n",
              "      <td>3.0</td>\n",
              "      <td>7.0</td>\n",
              "      <td>74.0</td>\n",
              "      <td>3.0</td>\n",
              "      <td>7.0</td>\n",
              "      <td>146.0</td>\n",
              "      <td>8.0</td>\n",
              "      <td>2.0</td>\n",
              "      <td>0.0</td>\n",
              "    </tr>\n",
              "  </tbody>\n",
              "</table>\n",
              "</div>"
            ],
            "text/plain": [
              "   Unnamed: 0    0     1     2    3    4     5    6    7      8    9   10   11\n",
              "0           0  7.0  21.0  30.0  2.0  3.0  30.0  2.0  3.0   59.0  7.0  2.0  0.0\n",
              "1           1  7.0  32.0  70.0  2.0  4.0  68.0  2.0  4.0  134.0  7.0  2.0  0.0\n",
              "2           2  7.0  15.0   1.0  2.0  2.0   0.0  2.0  2.0    0.0  7.0  2.0  0.0\n",
              "3           3  7.0  33.0  77.0  2.0  7.0  73.0  2.0  7.0  144.0  7.0  2.0  0.0\n",
              "4           4  7.0  55.0  78.0  3.0  7.0  74.0  3.0  7.0  146.0  8.0  2.0  0.0"
            ]
          },
          "metadata": {
            "tags": []
          },
          "execution_count": 45
        }
      ]
    },
    {
      "cell_type": "code",
      "metadata": {
        "id": "J3WLy4Uwjo2D"
      },
      "source": [
        "df_prepro = df_prepro.drop(columns=\"Unnamed: 0\")"
      ],
      "execution_count": 46,
      "outputs": []
    },
    {
      "cell_type": "code",
      "metadata": {
        "colab": {
          "base_uri": "https://localhost:8080/",
          "height": 195
        },
        "id": "PtAU_TXcjo2D",
        "outputId": "f988b542-077d-41ec-de38-9b7e2c2df546"
      },
      "source": [
        "df_prepro.head()"
      ],
      "execution_count": 47,
      "outputs": [
        {
          "output_type": "execute_result",
          "data": {
            "text/html": [
              "<div>\n",
              "<style scoped>\n",
              "    .dataframe tbody tr th:only-of-type {\n",
              "        vertical-align: middle;\n",
              "    }\n",
              "\n",
              "    .dataframe tbody tr th {\n",
              "        vertical-align: top;\n",
              "    }\n",
              "\n",
              "    .dataframe thead th {\n",
              "        text-align: right;\n",
              "    }\n",
              "</style>\n",
              "<table border=\"1\" class=\"dataframe\">\n",
              "  <thead>\n",
              "    <tr style=\"text-align: right;\">\n",
              "      <th></th>\n",
              "      <th>0</th>\n",
              "      <th>1</th>\n",
              "      <th>2</th>\n",
              "      <th>3</th>\n",
              "      <th>4</th>\n",
              "      <th>5</th>\n",
              "      <th>6</th>\n",
              "      <th>7</th>\n",
              "      <th>8</th>\n",
              "      <th>9</th>\n",
              "      <th>10</th>\n",
              "      <th>11</th>\n",
              "    </tr>\n",
              "  </thead>\n",
              "  <tbody>\n",
              "    <tr>\n",
              "      <th>0</th>\n",
              "      <td>7.0</td>\n",
              "      <td>21.0</td>\n",
              "      <td>30.0</td>\n",
              "      <td>2.0</td>\n",
              "      <td>3.0</td>\n",
              "      <td>30.0</td>\n",
              "      <td>2.0</td>\n",
              "      <td>3.0</td>\n",
              "      <td>59.0</td>\n",
              "      <td>7.0</td>\n",
              "      <td>2.0</td>\n",
              "      <td>0.0</td>\n",
              "    </tr>\n",
              "    <tr>\n",
              "      <th>1</th>\n",
              "      <td>7.0</td>\n",
              "      <td>32.0</td>\n",
              "      <td>70.0</td>\n",
              "      <td>2.0</td>\n",
              "      <td>4.0</td>\n",
              "      <td>68.0</td>\n",
              "      <td>2.0</td>\n",
              "      <td>4.0</td>\n",
              "      <td>134.0</td>\n",
              "      <td>7.0</td>\n",
              "      <td>2.0</td>\n",
              "      <td>0.0</td>\n",
              "    </tr>\n",
              "    <tr>\n",
              "      <th>2</th>\n",
              "      <td>7.0</td>\n",
              "      <td>15.0</td>\n",
              "      <td>1.0</td>\n",
              "      <td>2.0</td>\n",
              "      <td>2.0</td>\n",
              "      <td>0.0</td>\n",
              "      <td>2.0</td>\n",
              "      <td>2.0</td>\n",
              "      <td>0.0</td>\n",
              "      <td>7.0</td>\n",
              "      <td>2.0</td>\n",
              "      <td>0.0</td>\n",
              "    </tr>\n",
              "    <tr>\n",
              "      <th>3</th>\n",
              "      <td>7.0</td>\n",
              "      <td>33.0</td>\n",
              "      <td>77.0</td>\n",
              "      <td>2.0</td>\n",
              "      <td>7.0</td>\n",
              "      <td>73.0</td>\n",
              "      <td>2.0</td>\n",
              "      <td>7.0</td>\n",
              "      <td>144.0</td>\n",
              "      <td>7.0</td>\n",
              "      <td>2.0</td>\n",
              "      <td>0.0</td>\n",
              "    </tr>\n",
              "    <tr>\n",
              "      <th>4</th>\n",
              "      <td>7.0</td>\n",
              "      <td>55.0</td>\n",
              "      <td>78.0</td>\n",
              "      <td>3.0</td>\n",
              "      <td>7.0</td>\n",
              "      <td>74.0</td>\n",
              "      <td>3.0</td>\n",
              "      <td>7.0</td>\n",
              "      <td>146.0</td>\n",
              "      <td>8.0</td>\n",
              "      <td>2.0</td>\n",
              "      <td>0.0</td>\n",
              "    </tr>\n",
              "  </tbody>\n",
              "</table>\n",
              "</div>"
            ],
            "text/plain": [
              "     0     1     2    3    4     5    6    7      8    9   10   11\n",
              "0  7.0  21.0  30.0  2.0  3.0  30.0  2.0  3.0   59.0  7.0  2.0  0.0\n",
              "1  7.0  32.0  70.0  2.0  4.0  68.0  2.0  4.0  134.0  7.0  2.0  0.0\n",
              "2  7.0  15.0   1.0  2.0  2.0   0.0  2.0  2.0    0.0  7.0  2.0  0.0\n",
              "3  7.0  33.0  77.0  2.0  7.0  73.0  2.0  7.0  144.0  7.0  2.0  0.0\n",
              "4  7.0  55.0  78.0  3.0  7.0  74.0  3.0  7.0  146.0  8.0  2.0  0.0"
            ]
          },
          "metadata": {
            "tags": []
          },
          "execution_count": 47
        }
      ]
    },
    {
      "cell_type": "code",
      "metadata": {
        "id": "jaMr_I9Wjo2E"
      },
      "source": [
        "y = df_prepro.iloc[:,0].values\n",
        "X = df_prepro.iloc[:,1:].values"
      ],
      "execution_count": null,
      "outputs": []
    },
    {
      "cell_type": "code",
      "metadata": {
        "id": "8Q2HPFM4jo2F",
        "colab": {
          "base_uri": "https://localhost:8080/"
        },
        "outputId": "b0d3df90-f2fe-47d3-d056-ebb7cc489608"
      },
      "source": [
        "from sklearn.preprocessing import label_binarize\r\n",
        "\r\n",
        "y = label_binarize(y, classes=[0, 1, 2, 3, 4, 5, 6, 7])\r\n",
        "n_classes = y.shape[1]\r\n",
        "n_classes"
      ],
      "execution_count": 42,
      "outputs": [
        {
          "output_type": "execute_result",
          "data": {
            "text/plain": [
              "8"
            ]
          },
          "metadata": {
            "tags": []
          },
          "execution_count": 42
        }
      ]
    },
    {
      "cell_type": "code",
      "metadata": {
        "id": "mshFc0t_jo2G"
      },
      "source": [
        "from sklearn.model_selection import train_test_split\n",
        "X_train, X_test, y_train, y_test = train_test_split(X,y, test_size=0.20, random_state = 1)\n",
        "# Train : Test ==> 8 : 2"
      ],
      "execution_count": 48,
      "outputs": []
    },
    {
      "cell_type": "code",
      "metadata": {
        "id": "aWk1ouGnjo2G"
      },
      "source": [
        "from sklearn.preprocessing import StandardScaler\n",
        "from sklearn.pipeline import Pipeline\n",
        "import matplotlib.pyplot as plt\n",
        "import numpy as np\n",
        "from sklearn.multiclass import OneVsRestClassifier\n",
        "from sklearn.metrics import roc_curve, auc\n",
        "from itertools import cycle"
      ],
      "execution_count": 49,
      "outputs": []
    },
    {
      "cell_type": "code",
      "metadata": {
        "id": "IsOGJAtxjo2H"
      },
      "source": [
        "from sklearn.svm import LinearSVC\r\n",
        "\r\n",
        "pipe_svc = Pipeline([('scl', StandardScaler()),('clf', OneVsRestClassifier(LinearSVC()))])"
      ],
      "execution_count": 50,
      "outputs": []
    },
    {
      "cell_type": "code",
      "metadata": {
        "id": "xViwWKBqjo2J"
      },
      "source": [
        "from sklearn.neural_network import MLPClassifier\n",
        "\n",
        "mlp = MLPClassifier(hidden_layer_sizes=(50,), alpha=1e-4, solver='sgd', verbose=10, tol=1e-4, random_state=1, learning_rate_init=.1)\n",
        "\n",
        "pipe_mlp = Pipeline([('scl', StandardScaler()),('clf', OneVsRestClassifier(mlp))])"
      ],
      "execution_count": 51,
      "outputs": []
    },
    {
      "cell_type": "markdown",
      "metadata": {
        "id": "t9X7srgsjo2L"
      },
      "source": [
        "# SVM"
      ]
    },
    {
      "cell_type": "code",
      "metadata": {
        "colab": {
          "base_uri": "https://localhost:8080/"
        },
        "id": "b0Wsg6WOjo2L",
        "outputId": "10c33ca9-2add-4933-ba46-5da3d410c425"
      },
      "source": [
        "pipe_svc = pipe_svc.fit(X_train, y_train)\n",
        "y_pred_train = pipe_svc.predict(X_train)\n",
        "y_pred_test = pipe_svc.predict(X_test)"
      ],
      "execution_count": 18,
      "outputs": [
        {
          "output_type": "stream",
          "text": [
            "/usr/local/lib/python3.6/dist-packages/sklearn/svm/_base.py:947: ConvergenceWarning: Liblinear failed to converge, increase the number of iterations.\n",
            "  \"the number of iterations.\", ConvergenceWarning)\n",
            "/usr/local/lib/python3.6/dist-packages/sklearn/svm/_base.py:947: ConvergenceWarning: Liblinear failed to converge, increase the number of iterations.\n",
            "  \"the number of iterations.\", ConvergenceWarning)\n",
            "/usr/local/lib/python3.6/dist-packages/sklearn/svm/_base.py:947: ConvergenceWarning: Liblinear failed to converge, increase the number of iterations.\n",
            "  \"the number of iterations.\", ConvergenceWarning)\n",
            "/usr/local/lib/python3.6/dist-packages/sklearn/svm/_base.py:947: ConvergenceWarning: Liblinear failed to converge, increase the number of iterations.\n",
            "  \"the number of iterations.\", ConvergenceWarning)\n",
            "/usr/local/lib/python3.6/dist-packages/sklearn/svm/_base.py:947: ConvergenceWarning: Liblinear failed to converge, increase the number of iterations.\n",
            "  \"the number of iterations.\", ConvergenceWarning)\n",
            "/usr/local/lib/python3.6/dist-packages/sklearn/svm/_base.py:947: ConvergenceWarning: Liblinear failed to converge, increase the number of iterations.\n",
            "  \"the number of iterations.\", ConvergenceWarning)\n"
          ],
          "name": "stderr"
        }
      ]
    },
    {
      "cell_type": "code",
      "metadata": {
        "id": "0cKtzGRgjo2M"
      },
      "source": [
        "y_score_svc = pipe_svc.decision_function(X_test)"
      ],
      "execution_count": 19,
      "outputs": []
    },
    {
      "cell_type": "code",
      "metadata": {
        "id": "si6wJDmyjo2M"
      },
      "source": [
        "fpr_svc = dict()\n",
        "tpr_svc = dict()\n",
        "roc_auc_svc = dict()\n",
        "for i in range(n_classes):\n",
        "    fpr_svc[i], tpr_svc[i], _ = roc_curve(y_test[:, i], y_score_svc[:, i])\n",
        "    roc_auc_svc[i] = auc(fpr_svc[i], tpr_svc[i])"
      ],
      "execution_count": 20,
      "outputs": []
    },
    {
      "cell_type": "code",
      "metadata": {
        "colab": {
          "base_uri": "https://localhost:8080/",
          "height": 413
        },
        "id": "nY6hX24ujo2M",
        "outputId": "0ae5395c-614f-47c9-af6c-b3226b1364df"
      },
      "source": [
        "lw = 2\n",
        "classes = [\"DoS\",\"D.P\",\"M.C\",\"M.O\",\"SC\",\"SP\",\"W.S\",\"NL\"]\n",
        "plt.figure(figsize=(7,6))\n",
        "ax=plt.subplot(111)\n",
        "colors = cycle(['red','maroon','navy','aqua', 'darkorange', 'cornflowerblue','olive','darkslategray'])\n",
        "for i, color in zip(range(n_classes), colors):\n",
        "    plt.plot(fpr_svc[i], tpr_svc[i], color=color, lw=lw,\n",
        "             label='{0} (area = {1:0.2f})'\n",
        "             ''.format(classes[i], roc_auc_svc[i]))\n",
        "\n",
        "plt.plot([0, 1], [0, 1], 'k--', lw=lw)\n",
        "plt.xlim([0.0, 1.0])\n",
        "plt.ylim([0.0, 1.0])\n",
        "plt.xticks(fontsize=11,weight='bold')\n",
        "plt.yticks(fontsize=11,weight='bold')\n",
        "plt.setp(ax.spines.values(), linewidth=2)\n",
        "ax.xaxis.set_tick_params(width=2)\n",
        "ax.yaxis.set_tick_params(width=2)\n",
        "plt.xlabel('False Positive Rate',fontsize=12,weight='bold')\n",
        "plt.ylabel('True Positive Rate',fontsize=12,weight='bold')\n",
        "plt.legend(loc=\"lower right\")"
      ],
      "execution_count": 21,
      "outputs": [
        {
          "output_type": "execute_result",
          "data": {
            "text/plain": [
              "<matplotlib.legend.Legend at 0x7fbc6ec51320>"
            ]
          },
          "metadata": {
            "tags": []
          },
          "execution_count": 21
        },
        {
          "output_type": "display_data",
          "data": {
            "image/png": "[encoded data removed]",
            "text/plain": [
              "<Figure size 504x432 with 1 Axes>"
            ]
          },
          "metadata": {
            "tags": [],
            "needs_background": "light"
          }
        }
      ]
    },
    {
      "cell_type": "markdown",
      "metadata": {
        "id": "MMVPg8I4jo2Q"
      },
      "source": [
        "# ANN"
      ]
    },
    {
      "cell_type": "code",
      "metadata": {
        "colab": {
          "base_uri": "https://localhost:8080/"
        },
        "id": "RF-KuTOVjo2Q",
        "outputId": "5393a80a-a6e9-4f66-d456-7a33c4b06c65"
      },
      "source": [
        "pipe_mlp = pipe_mlp.fit(X_train, y_train)"
      ],
      "execution_count": 22,
      "outputs": [
        {
          "output_type": "stream",
          "text": [
            "Iteration 1, loss = 0.01747635\n",
            "Iteration 2, loss = 0.01242359\n",
            "Iteration 3, loss = 0.01219138\n",
            "Iteration 4, loss = 0.01213977\n",
            "Iteration 5, loss = 0.01206942\n",
            "Iteration 6, loss = 0.01195333\n",
            "Iteration 7, loss = 0.01190263\n",
            "Iteration 8, loss = 0.01188070\n",
            "Iteration 9, loss = 0.01179250\n",
            "Iteration 10, loss = 0.01184380\n",
            "Iteration 11, loss = 0.01180049\n",
            "Iteration 12, loss = 0.01182816\n",
            "Iteration 13, loss = 0.01178547\n",
            "Iteration 14, loss = 0.01173279\n",
            "Iteration 15, loss = 0.01179253\n",
            "Iteration 16, loss = 0.01172668\n",
            "Iteration 17, loss = 0.01173873\n",
            "Training loss did not improve more than tol=0.000100 for 10 consecutive epochs. Stopping.\n",
            "Iteration 1, loss = 0.00544625\n",
            "Iteration 2, loss = 0.00202050\n",
            "Iteration 3, loss = 0.00149718\n",
            "Iteration 4, loss = 0.00114145\n",
            "Iteration 5, loss = 0.00089673\n",
            "Iteration 6, loss = 0.00071281\n",
            "Iteration 7, loss = 0.00055928\n",
            "Iteration 8, loss = 0.00044291\n",
            "Iteration 9, loss = 0.00035870\n",
            "Iteration 10, loss = 0.00029026\n",
            "Iteration 11, loss = 0.00023988\n",
            "Iteration 12, loss = 0.00021063\n",
            "Iteration 13, loss = 0.00017934\n",
            "Iteration 14, loss = 0.00016074\n",
            "Iteration 15, loss = 0.00014546\n",
            "Iteration 16, loss = 0.00013007\n",
            "Iteration 17, loss = 0.00011996\n",
            "Iteration 18, loss = 0.00011006\n",
            "Iteration 19, loss = 0.00010346\n",
            "Training loss did not improve more than tol=0.000100 for 10 consecutive epochs. Stopping.\n",
            "Iteration 1, loss = 0.00625678\n",
            "Iteration 2, loss = 0.00162347\n",
            "Iteration 3, loss = 0.00104493\n",
            "Iteration 4, loss = 0.00074767\n",
            "Iteration 5, loss = 0.00055283\n",
            "Iteration 6, loss = 0.00042909\n",
            "Iteration 7, loss = 0.00034367\n",
            "Iteration 8, loss = 0.00029106\n",
            "Iteration 9, loss = 0.00024622\n",
            "Iteration 10, loss = 0.00021310\n",
            "Iteration 11, loss = 0.00018807\n",
            "Iteration 12, loss = 0.00016777\n",
            "Iteration 13, loss = 0.00015081\n",
            "Iteration 14, loss = 0.00013832\n",
            "Iteration 15, loss = 0.00012815\n",
            "Iteration 16, loss = 0.00011725\n",
            "Iteration 17, loss = 0.00010939\n",
            "Training loss did not improve more than tol=0.000100 for 10 consecutive epochs. Stopping.\n",
            "Iteration 1, loss = 0.00653776\n",
            "Iteration 2, loss = 0.00118948\n",
            "Iteration 3, loss = 0.00059300\n",
            "Iteration 4, loss = 0.00038536\n",
            "Iteration 5, loss = 0.00028753\n",
            "Iteration 6, loss = 0.00023158\n",
            "Iteration 7, loss = 0.00019211\n",
            "Iteration 8, loss = 0.00016507\n",
            "Iteration 9, loss = 0.00014505\n",
            "Iteration 10, loss = 0.00012788\n",
            "Iteration 11, loss = 0.00011507\n",
            "Iteration 12, loss = 0.00010546\n",
            "Iteration 13, loss = 0.00009728\n",
            "Iteration 14, loss = 0.00009043\n",
            "Iteration 15, loss = 0.00008506\n",
            "Training loss did not improve more than tol=0.000100 for 10 consecutive epochs. Stopping.\n",
            "Iteration 1, loss = 0.01666346\n",
            "Iteration 2, loss = 0.00804104\n",
            "Iteration 3, loss = 0.00421951\n",
            "Iteration 4, loss = 0.00226472\n",
            "Iteration 5, loss = 0.00152418\n",
            "Iteration 6, loss = 0.00110817\n",
            "Iteration 7, loss = 0.00082296\n",
            "Iteration 8, loss = 0.00065706\n",
            "Iteration 9, loss = 0.00055434\n",
            "Iteration 10, loss = 0.00048644\n",
            "Iteration 11, loss = 0.00043228\n",
            "Iteration 12, loss = 0.00037591\n",
            "Iteration 13, loss = 0.00034192\n",
            "Iteration 14, loss = 0.00029698\n",
            "Iteration 15, loss = 0.00029522\n",
            "Iteration 16, loss = 0.00027136\n",
            "Iteration 17, loss = 0.00024899\n",
            "Iteration 18, loss = 0.00022930\n",
            "Iteration 19, loss = 0.00021059\n",
            "Iteration 20, loss = 0.00019590\n",
            "Training loss did not improve more than tol=0.000100 for 10 consecutive epochs. Stopping.\n",
            "Iteration 1, loss = 0.00846069\n",
            "Iteration 2, loss = 0.00445244\n",
            "Iteration 3, loss = 0.00294485\n",
            "Iteration 4, loss = 0.00184722\n",
            "Iteration 5, loss = 0.00122712\n",
            "Iteration 6, loss = 0.00083753\n",
            "Iteration 7, loss = 0.00059635\n",
            "Iteration 8, loss = 0.00046156\n",
            "Iteration 9, loss = 0.00037156\n",
            "Iteration 10, loss = 0.00031561\n",
            "Iteration 11, loss = 0.00026678\n",
            "Iteration 12, loss = 0.00023323\n",
            "Iteration 13, loss = 0.00020754\n",
            "Iteration 14, loss = 0.00018561\n",
            "Iteration 15, loss = 0.00016977\n",
            "Iteration 16, loss = 0.00015487\n",
            "Iteration 17, loss = 0.00014603\n",
            "Iteration 18, loss = 0.00013612\n",
            "Iteration 19, loss = 0.00012775\n",
            "Training loss did not improve more than tol=0.000100 for 10 consecutive epochs. Stopping.\n",
            "Iteration 1, loss = 0.00302240\n",
            "Iteration 2, loss = 0.00078646\n",
            "Iteration 3, loss = 0.00058064\n",
            "Iteration 4, loss = 0.00048731\n",
            "Iteration 5, loss = 0.00041422\n",
            "Iteration 6, loss = 0.00035437\n",
            "Iteration 7, loss = 0.00030490\n",
            "Iteration 8, loss = 0.00026450\n",
            "Iteration 9, loss = 0.00023188\n",
            "Iteration 10, loss = 0.00020541\n",
            "Iteration 11, loss = 0.00018365\n",
            "Iteration 12, loss = 0.00016574\n",
            "Iteration 13, loss = 0.00015079\n",
            "Iteration 14, loss = 0.00013828\n",
            "Training loss did not improve more than tol=0.000100 for 10 consecutive epochs. Stopping.\n",
            "Iteration 1, loss = 0.04467366\n",
            "Iteration 2, loss = 0.02507689\n",
            "Iteration 3, loss = 0.01943931\n",
            "Iteration 4, loss = 0.01716353\n",
            "Iteration 5, loss = 0.01601158\n",
            "Iteration 6, loss = 0.01547859\n",
            "Iteration 7, loss = 0.01495784\n",
            "Iteration 8, loss = 0.01474770\n",
            "Iteration 9, loss = 0.01424732\n",
            "Iteration 10, loss = 0.01439464\n",
            "Iteration 11, loss = 0.01400306\n",
            "Iteration 12, loss = 0.01397464\n",
            "Iteration 13, loss = 0.01401256\n",
            "Iteration 14, loss = 0.01369424\n",
            "Iteration 15, loss = 0.01388502\n",
            "Iteration 16, loss = 0.01370013\n",
            "Iteration 17, loss = 0.01344338\n",
            "Iteration 18, loss = 0.01344366\n",
            "Iteration 19, loss = 0.01350272\n",
            "Iteration 20, loss = 0.01336786\n",
            "Iteration 21, loss = 0.01330047\n",
            "Iteration 22, loss = 0.01323126\n",
            "Iteration 23, loss = 0.01313315\n",
            "Iteration 24, loss = 0.01313658\n",
            "Iteration 25, loss = 0.01308178\n",
            "Iteration 26, loss = 0.01311884\n",
            "Iteration 27, loss = 0.01288934\n",
            "Iteration 28, loss = 0.01296448\n",
            "Iteration 29, loss = 0.01288647\n",
            "Iteration 30, loss = 0.01293250\n",
            "Iteration 31, loss = 0.01283469\n",
            "Iteration 32, loss = 0.01272922\n",
            "Iteration 33, loss = 0.01285640\n",
            "Iteration 34, loss = 0.01280843\n",
            "Iteration 35, loss = 0.01270013\n",
            "Iteration 36, loss = 0.01271168\n",
            "Iteration 37, loss = 0.01265328\n",
            "Iteration 38, loss = 0.01276057\n",
            "Iteration 39, loss = 0.01279162\n",
            "Iteration 40, loss = 0.01278793\n",
            "Iteration 41, loss = 0.01257906\n",
            "Iteration 42, loss = 0.01257737\n",
            "Iteration 43, loss = 0.01259853\n",
            "Training loss did not improve more than tol=0.000100 for 10 consecutive epochs. Stopping.\n"
          ],
          "name": "stdout"
        }
      ]
    },
    {
      "cell_type": "code",
      "metadata": {
        "id": "dOXHS8uejo2Q"
      },
      "source": [
        "y_score_mlp = pipe_mlp.predict_proba(X_test)\n",
        "fpr_mlp = dict()\n",
        "tpr_mlp = dict()\n",
        "roc_auc_mlp = dict()\n",
        "for i in range(n_classes):\n",
        "    fpr_mlp[i], tpr_mlp[i], _ = roc_curve(y_test[:, i], y_score_mlp[:, i])\n",
        "    roc_auc_mlp[i] = auc(fpr_mlp[i], tpr_mlp[i])"
      ],
      "execution_count": 23,
      "outputs": []
    },
    {
      "cell_type": "code",
      "metadata": {
        "colab": {
          "base_uri": "https://localhost:8080/",
          "height": 413
        },
        "id": "8rA4RTXOjo2Q",
        "outputId": "e510d5c0-6cff-4f3a-d97b-eef4d4ac339b"
      },
      "source": [
        "lw = 2\n",
        "classes = [\"DoS\",\"D.P\",\"M.C\",\"M.O\",\"SC\",\"SP\",\"W.S\",\"NL\"]\n",
        "plt.figure(figsize=(7,6))\n",
        "ax=plt.subplot(111)\n",
        "colors = cycle(['red','maroon','navy','aqua', 'darkorange', 'cornflowerblue','olive','darkslategray'])\n",
        "for i, color in zip(range(n_classes), colors):\n",
        "    plt.plot(fpr_mlp[i], tpr_mlp[i], color=color, lw=lw,\n",
        "             label='{0} (area = {1:0.2f})'\n",
        "             ''.format(classes[i], roc_auc_mlp[i]))\n",
        "\n",
        "plt.plot([0, 1], [0, 1], 'k--', lw=lw)\n",
        "plt.xlim([0.0, 1.0])\n",
        "plt.ylim([0.0, 1.0])\n",
        "plt.xticks(fontsize=11,weight='bold')\n",
        "plt.yticks(fontsize=11,weight='bold')\n",
        "plt.setp(ax.spines.values(), linewidth=2)\n",
        "ax.xaxis.set_tick_params(width=2)\n",
        "ax.yaxis.set_tick_params(width=2)\n",
        "plt.xlabel('False Positive Rate',fontsize=12,weight='bold')\n",
        "plt.ylabel('True Positive Rate',fontsize=12,weight='bold')\n",
        "plt.legend(loc=\"lower right\")"
      ],
      "execution_count": 24,
      "outputs": [
        {
          "output_type": "execute_result",
          "data": {
            "text/plain": [
              "<matplotlib.legend.Legend at 0x7fbc6e708518>"
            ]
          },
          "metadata": {
            "tags": []
          },
          "execution_count": 24
        },
        {
          "output_type": "display_data",
          "data": {
            "image/png": "[encoded data removed]",
            "text/plain": [
              "<Figure size 504x432 with 1 Axes>"
            ]
          },
          "metadata": {
            "tags": [],
            "needs_background": "light"
          }
        }
      ]
    },
    {
      "cell_type": "markdown",
      "metadata": {
        "id": "CuX9hEWGp2Tt"
      },
      "source": [
        "================================================================================"
      ]
    },
    {
      "cell_type": "code",
      "metadata": {
        "id": "Pwwvw2dpp1Rc"
      },
      "source": [
        "y = df_prepro.iloc[:,0].values\n",
        "X = df_prepro.iloc[:,1:].values"
      ],
      "execution_count": 25,
      "outputs": []
    },
    {
      "cell_type": "code",
      "metadata": {
        "id": "2RMOryc9qIty"
      },
      "source": [
        "from sklearn.model_selection import cross_val_score\r\n",
        "from sklearn.model_selection import learning_curve\r\n",
        "from sklearn.metrics import accuracy_score\r\n",
        "from sklearn.metrics import classification_report\r\n",
        "from sklearn.metrics import confusion_matrix\r\n",
        "import itertools\r\n",
        "\r\n",
        "target_names = ['Normal', 'DoSattack', 'scan', 'malitiousControl', 'malitiousOperation', 'spying', 'dataProbing', 'wrongSetUp']"
      ],
      "execution_count": 26,
      "outputs": []
    },
    {
      "cell_type": "code",
      "metadata": {
        "id": "JUQq3s5ap9Kl"
      },
      "source": [
        "from sklearn.model_selection import train_test_split\r\n",
        "X_train, X_test, y_train, y_test = train_test_split(X,y, test_size=0.20, random_state = 1)\r\n",
        "# Train : Test ==> 8 : 2"
      ],
      "execution_count": 27,
      "outputs": []
    },
    {
      "cell_type": "markdown",
      "metadata": {
        "id": "iAY3VXy8qUjq"
      },
      "source": [
        "# Cross validation Estimation for SVM"
      ]
    },
    {
      "cell_type": "code",
      "metadata": {
        "id": "9EWsri71qTrS"
      },
      "source": [
        "from sklearn.svm import LinearSVC\r\n",
        "\r\n",
        "pipe_svc = Pipeline([('scl', StandardScaler()),('clf', LinearSVC())])"
      ],
      "execution_count": 28,
      "outputs": []
    },
    {
      "cell_type": "code",
      "metadata": {
        "id": "xQDvX_hPvZw3"
      },
      "source": [
        "train_sizes_svc, train_scores_svc, test_scores_svc = learning_curve(estimator=pipe_svc,X=X, y=y, train_sizes=np.linspace(0.2,1.0,5), cv=5, n_jobs=-1)\r\n",
        "train_mean_svc = np.mean(train_scores_svc, axis=1)\r\n",
        "train_std_svc = np.std(train_scores_svc, axis=1)\r\n",
        "test_mean_svc = np.mean(test_scores_svc, axis=1)\r\n",
        "test_std_svc = np.std(test_scores_svc, axis=1)"
      ],
      "execution_count": 29,
      "outputs": []
    },
    {
      "cell_type": "markdown",
      "metadata": {
        "id": "Ew_bCRmcqxwy"
      },
      "source": [
        "# Evaluation Metrics Calculations for SVM"
      ]
    },
    {
      "cell_type": "code",
      "metadata": {
        "colab": {
          "base_uri": "https://localhost:8080/"
        },
        "id": "MVO8wTMvq3qr",
        "outputId": "3e212c6b-30f8-4a48-d48c-06fde2afcebb"
      },
      "source": [
        "pipe_svc = pipe_svc.fit(X_train, y_train)\r\n",
        "y_pred_train = pipe_svc.predict(X_train)\r\n",
        "y_pred_test = pipe_svc.predict(X_test)\r\n",
        "\r\n",
        "accuracy_score(y_train, y_pred_train), accuracy_score(y_test, y_pred_test)"
      ],
      "execution_count": 30,
      "outputs": [
        {
          "output_type": "stream",
          "text": [
            "/usr/local/lib/python3.6/dist-packages/sklearn/svm/_base.py:947: ConvergenceWarning: Liblinear failed to converge, increase the number of iterations.\n",
            "  \"the number of iterations.\", ConvergenceWarning)\n"
          ],
          "name": "stderr"
        },
        {
          "output_type": "execute_result",
          "data": {
            "text/plain": [
              "(0.9826332625579706, 0.9827627149422398)"
            ]
          },
          "metadata": {
            "tags": []
          },
          "execution_count": 30
        }
      ]
    },
    {
      "cell_type": "code",
      "metadata": {
        "colab": {
          "base_uri": "https://localhost:8080/"
        },
        "id": "hkmreSmfq8NC",
        "outputId": "83676c78-2424-48e5-92e4-b3166e50cf84"
      },
      "source": [
        "print(classification_report(y_train, y_pred_train, target_names=target_names))"
      ],
      "execution_count": 31,
      "outputs": [
        {
          "output_type": "stream",
          "text": [
            "/usr/local/lib/python3.6/dist-packages/sklearn/metrics/_classification.py:1272: UndefinedMetricWarning: Precision and F-score are ill-defined and being set to 0.0 in labels with no predicted samples. Use `zero_division` parameter to control this behavior.\n",
            "  _warn_prf(average, modifier, msg_start, len(result))\n"
          ],
          "name": "stderr"
        },
        {
          "output_type": "stream",
          "text": [
            "                    precision    recall  f1-score   support\n",
            "\n",
            "            Normal       0.97      0.65      0.78      4602\n",
            "         DoSattack       0.00      0.00      0.00       279\n",
            "              scan       0.78      0.04      0.07       720\n",
            "  malitiousControl       1.00      0.16      0.27       650\n",
            "malitiousOperation       0.00      0.00      0.00      1242\n",
            "            spying       0.00      0.00      0.00       412\n",
            "       dataProbing       0.00      0.00      0.00        94\n",
            "        wrongSetUp       0.98      1.00      0.99    278353\n",
            "\n",
            "          accuracy                           0.98    286352\n",
            "         macro avg       0.47      0.23      0.26    286352\n",
            "      weighted avg       0.98      0.98      0.98    286352\n",
            "\n"
          ],
          "name": "stdout"
        }
      ]
    },
    {
      "cell_type": "code",
      "metadata": {
        "colab": {
          "base_uri": "https://localhost:8080/"
        },
        "id": "yWuncoGgrDLL",
        "outputId": "f219838c-b7a0-4a5d-963d-53d85b10c68d"
      },
      "source": [
        "print(classification_report(y_test, y_pred_test, target_names=target_names))"
      ],
      "execution_count": 32,
      "outputs": [
        {
          "output_type": "stream",
          "text": [
            "                    precision    recall  f1-score   support\n",
            "\n",
            "            Normal       0.96      0.66      0.78      1178\n",
            "         DoSattack       0.00      0.00      0.00        63\n",
            "              scan       0.83      0.06      0.11       169\n",
            "  malitiousControl       1.00      0.21      0.35       155\n",
            "malitiousOperation       0.00      0.00      0.00       305\n",
            "            spying       0.00      0.00      0.00       120\n",
            "       dataProbing       0.00      0.00      0.00        28\n",
            "        wrongSetUp       0.98      1.00      0.99     69571\n",
            "\n",
            "          accuracy                           0.98     71589\n",
            "         macro avg       0.47      0.24      0.28     71589\n",
            "      weighted avg       0.98      0.98      0.98     71589\n",
            "\n"
          ],
          "name": "stdout"
        },
        {
          "output_type": "stream",
          "text": [
            "/usr/local/lib/python3.6/dist-packages/sklearn/metrics/_classification.py:1272: UndefinedMetricWarning: Precision and F-score are ill-defined and being set to 0.0 in labels with no predicted samples. Use `zero_division` parameter to control this behavior.\n",
            "  _warn_prf(average, modifier, msg_start, len(result))\n"
          ],
          "name": "stderr"
        }
      ]
    },
    {
      "cell_type": "code",
      "metadata": {
        "colab": {
          "base_uri": "https://localhost:8080/"
        },
        "id": "-CszU86QrHrN",
        "outputId": "33059216-f7ca-431a-b984-96c610387baf"
      },
      "source": [
        "cnf_matrix = confusion_matrix(y_test, y_pred_test)\r\n",
        "cnf_matrix"
      ],
      "execution_count": 33,
      "outputs": [
        {
          "output_type": "execute_result",
          "data": {
            "text/plain": [
              "array([[  775,     0,     0,     0,     0,     0,     0,   403],\n",
              "       [    0,     0,     0,     0,     0,     0,     0,    63],\n",
              "       [    0,     0,    10,     0,     0,     0,     0,   159],\n",
              "       [    0,     0,     0,    33,     0,     0,     0,   122],\n",
              "       [    0,     0,     2,     0,     0,     0,     0,   303],\n",
              "       [    0,     0,     0,     0,     0,     0,     0,   120],\n",
              "       [    0,     0,     0,     0,     0,     0,     0,    28],\n",
              "       [   34,     0,     0,     0,     0,     0,     0, 69537]])"
            ]
          },
          "metadata": {
            "tags": []
          },
          "execution_count": 33
        }
      ]
    },
    {
      "cell_type": "markdown",
      "metadata": {
        "id": "N8vDPTJpqf1K"
      },
      "source": [
        "# Cross validation Estimation for ANN"
      ]
    },
    {
      "cell_type": "code",
      "metadata": {
        "id": "Xlhea6CbqgiH"
      },
      "source": [
        "from sklearn.neural_network import MLPClassifier\r\n",
        "\r\n",
        "mlp = MLPClassifier(hidden_layer_sizes=(50,), max_iter=10, alpha=1e-4, solver='sgd', verbose=10, tol=1e-4, random_state=1, learning_rate_init=.1)\r\n",
        "pipe_mlp = Pipeline([('scl', StandardScaler()),('clf', mlp)])"
      ],
      "execution_count": 34,
      "outputs": []
    },
    {
      "cell_type": "code",
      "metadata": {
        "colab": {
          "base_uri": "https://localhost:8080/"
        },
        "id": "dZhtaLM35VqE",
        "outputId": "b27defc5-c25d-407a-8a8c-875790232277"
      },
      "source": [
        "train_sizes_mlp, train_scores_mlp, test_scores_mlp = learning_curve(estimator=pipe_mlp,X=X, y=y, train_sizes=np.linspace(0.2,1.0,5), cv=5, n_jobs=-1)\r\n",
        "train_mean_mlp = np.mean(train_scores_mlp, axis=1)\r\n",
        "train_std_mlp = np.std(train_scores_mlp, axis=1)\r\n",
        "test_mean_mlp = np.mean(test_scores_mlp, axis=1)\r\n",
        "test_std_mlp = np.std(test_scores_mlp, axis=1)"
      ],
      "execution_count": 35,
      "outputs": [
        {
          "output_type": "stream",
          "text": [
            "/usr/local/lib/python3.6/dist-packages/joblib/externals/loky/process_executor.py:691: UserWarning: A worker stopped while some jobs were given to the executor. This can be caused by a too short worker timeout or by a memory leak.\n",
            "  \"timeout or by a memory leak.\", UserWarning\n"
          ],
          "name": "stderr"
        }
      ]
    },
    {
      "cell_type": "markdown",
      "metadata": {
        "id": "Yj1M1j0PrLnL"
      },
      "source": [
        "# Evaluation Metrics Calculations for ANN"
      ]
    },
    {
      "cell_type": "code",
      "metadata": {
        "colab": {
          "base_uri": "https://localhost:8080/"
        },
        "id": "iF428q1RrL9u",
        "outputId": "b80120c7-0262-4bea-e899-83e03709b69c"
      },
      "source": [
        "pipe_mlp = pipe_mlp.fit(X_train, y_train)\r\n",
        "y_pred_train = pipe_mlp.predict(X_train)\r\n",
        "y_pred_test = pipe_mlp.predict(X_test)"
      ],
      "execution_count": 36,
      "outputs": [
        {
          "output_type": "stream",
          "text": [
            "Iteration 1, loss = 0.05584959\n",
            "Iteration 2, loss = 0.02541104\n",
            "Iteration 3, loss = 0.01882284\n",
            "Iteration 4, loss = 0.01670067\n",
            "Iteration 5, loss = 0.01501241\n",
            "Iteration 6, loss = 0.01462482\n",
            "Iteration 7, loss = 0.01410045\n",
            "Iteration 8, loss = 0.01378341\n",
            "Iteration 9, loss = 0.01346050\n",
            "Iteration 10, loss = 0.01328968\n"
          ],
          "name": "stdout"
        },
        {
          "output_type": "stream",
          "text": [
            "/usr/local/lib/python3.6/dist-packages/sklearn/neural_network/_multilayer_perceptron.py:571: ConvergenceWarning: Stochastic Optimizer: Maximum iterations (10) reached and the optimization hasn't converged yet.\n",
            "  % self.max_iter, ConvergenceWarning)\n"
          ],
          "name": "stderr"
        }
      ]
    },
    {
      "cell_type": "code",
      "metadata": {
        "colab": {
          "base_uri": "https://localhost:8080/"
        },
        "id": "US3D3fmlrNJL",
        "outputId": "324dbf03-691c-4c37-9a30-0cb5fbd5e57a"
      },
      "source": [
        "accuracy_score(y_train, y_pred_train), accuracy_score(y_test, y_pred_test)"
      ],
      "execution_count": 37,
      "outputs": [
        {
          "output_type": "execute_result",
          "data": {
            "text/plain": [
              "(0.9942273844778454, 0.994077302378857)"
            ]
          },
          "metadata": {
            "tags": []
          },
          "execution_count": 37
        }
      ]
    },
    {
      "cell_type": "code",
      "metadata": {
        "colab": {
          "base_uri": "https://localhost:8080/"
        },
        "id": "p18EZ4evrQ3r",
        "outputId": "20dc5f2d-c8f0-4ce3-b359-3a19d8a85d7b"
      },
      "source": [
        "print(classification_report(y_train, y_pred_train, target_names=target_names))"
      ],
      "execution_count": 38,
      "outputs": [
        {
          "output_type": "stream",
          "text": [
            "                    precision    recall  f1-score   support\n",
            "\n",
            "            Normal       0.98      0.65      0.78      4602\n",
            "         DoSattack       1.00      1.00      1.00       279\n",
            "              scan       1.00      1.00      1.00       720\n",
            "  malitiousControl       1.00      1.00      1.00       650\n",
            "malitiousOperation       1.00      1.00      1.00      1242\n",
            "            spying       1.00      1.00      1.00       412\n",
            "       dataProbing       1.00      1.00      1.00        94\n",
            "        wrongSetUp       0.99      1.00      1.00    278353\n",
            "\n",
            "          accuracy                           0.99    286352\n",
            "         macro avg       1.00      0.96      0.97    286352\n",
            "      weighted avg       0.99      0.99      0.99    286352\n",
            "\n"
          ],
          "name": "stdout"
        }
      ]
    },
    {
      "cell_type": "code",
      "metadata": {
        "colab": {
          "base_uri": "https://localhost:8080/"
        },
        "id": "H7oUe7MarXPM",
        "outputId": "79cf5aa3-db26-407d-d57a-ad64842d634b"
      },
      "source": [
        "print(classification_report(y_test, y_pred_test, target_names=target_names))"
      ],
      "execution_count": 39,
      "outputs": [
        {
          "output_type": "stream",
          "text": [
            "                    precision    recall  f1-score   support\n",
            "\n",
            "            Normal       0.98      0.66      0.79      1178\n",
            "         DoSattack       1.00      1.00      1.00        63\n",
            "              scan       0.99      1.00      1.00       169\n",
            "  malitiousControl       1.00      1.00      1.00       155\n",
            "malitiousOperation       1.00      1.00      1.00       305\n",
            "            spying       0.98      1.00      0.99       120\n",
            "       dataProbing       1.00      1.00      1.00        28\n",
            "        wrongSetUp       0.99      1.00      1.00     69571\n",
            "\n",
            "          accuracy                           0.99     71589\n",
            "         macro avg       0.99      0.96      0.97     71589\n",
            "      weighted avg       0.99      0.99      0.99     71589\n",
            "\n"
          ],
          "name": "stdout"
        }
      ]
    },
    {
      "cell_type": "code",
      "metadata": {
        "colab": {
          "base_uri": "https://localhost:8080/"
        },
        "id": "UK_8-AObran7",
        "outputId": "d078bcba-e9d4-4300-9a6a-e7e049349936"
      },
      "source": [
        "cnf_matrix = confusion_matrix(y_test, y_pred_test)\r\n",
        "cnf_matrix"
      ],
      "execution_count": 40,
      "outputs": [
        {
          "output_type": "execute_result",
          "data": {
            "text/plain": [
              "array([[  775,     0,     0,     0,     0,     0,     0,   403],\n",
              "       [    0,    63,     0,     0,     0,     0,     0,     0],\n",
              "       [    0,     0,   169,     0,     0,     0,     0,     0],\n",
              "       [    0,     0,     0,   155,     0,     0,     0,     0],\n",
              "       [    0,     0,     0,     0,   305,     0,     0,     0],\n",
              "       [    0,     0,     0,     0,     0,   120,     0,     0],\n",
              "       [    0,     0,     0,     0,     0,     0,    28,     0],\n",
              "       [   18,     0,     1,     0,     0,     2,     0, 69550]])"
            ]
          },
          "metadata": {
            "tags": []
          },
          "execution_count": 40
        }
      ]
    }
  ]
}